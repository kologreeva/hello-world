{
 "cells": [
  {
   "cell_type": "code",
   "execution_count": 1,
   "metadata": {},
   "outputs": [],
   "source": [
    "import numpy as np\n",
    "import random\n",
    "import scipy\n",
    "import math"
   ]
  },
  {
   "cell_type": "code",
   "execution_count": 2,
   "metadata": {},
   "outputs": [
    {
     "name": "stdout",
     "output_type": "stream",
     "text": [
      "Array:\n",
      "[[0.19659127 0.35349357 0.80040579]\n",
      " [0.2442333  0.44769336 0.19532014]\n",
      " [0.19622965 0.46900502 0.27648322]\n",
      " [0.25907335 0.8447512  0.44932897]\n",
      " [0.43268259 0.22244177 0.95670575]\n",
      " [0.30562516 0.7219428  0.04208952]\n",
      " [0.51261815 0.11870942 0.12916441]\n",
      " [0.91492767 0.0893937  0.91926901]\n",
      " [0.49524826 0.96778556 0.62555743]\n",
      " [0.13160812 0.74407143 0.3763088 ]]\n",
      "\n",
      "Numbers:\n",
      "0.35349356698551426\n",
      "0.4476933606042136\n",
      "0.4690050230508971\n",
      "0.44932896970237635\n",
      "0.43268259107785\n",
      "0.30562515958617253\n",
      "0.5126181535143167\n",
      "0.08939369882793002\n",
      "0.49524825508327275\n",
      "0.37630880309502246\n"
     ]
    }
   ],
   "source": [
    "#  1   \n",
    "a = np.random.random((10,3))\n",
    "i=0\n",
    "\n",
    "print(\"Array:\")\n",
    "print(a)\n",
    "print(\"\")\n",
    "print(\"Numbers:\")\n",
    "\n",
    "for i in range(10):\n",
    "    if (abs(a[i,0]-0.5) >= abs(a[i,1]-0.5)):\n",
    "        if abs(a[i,2] - 0.5) >= abs(a[i,1] - 0.5):\n",
    "            print(a[i,1])\n",
    "        else:\n",
    "            print(a[i,2])\n",
    "    else:\n",
    "        if abs(a[i,2]-0.5) >= abs(a[i,0]-0.5):\n",
    "            print(a[i,0])\n",
    "        else:\n",
    "            print(a[i,2])"
   ]
  },
  {
   "cell_type": "code",
   "execution_count": 3,
   "metadata": {},
   "outputs": [
    {
     "name": "stdout",
     "output_type": "stream",
     "text": [
      "Matrix: \n",
      "[[0.67631902 0.13774792 0.89182685 0.65589173 0.513343   0.62208877]\n",
      " [0.98403883 0.80348523 0.34111168 0.14172235 0.20064142 0.32619749]\n",
      " [0.35384643 0.38377335 0.81025117 0.73600316 0.43822247 0.75308871]\n",
      " [0.43633832 0.55534882 0.37134716 0.55483572 0.29378856 0.57726456]\n",
      " [0.40041518 0.29031505 0.61311009 0.45430846 0.19023614 0.13083205]\n",
      " [0.95044732 0.94775092 0.23218322 0.77911844 0.94560739 0.34240146]]\n",
      "\n",
      "minimum line =  [0.353846429431398, 0.13774792139089487, 0.23218321738686043, 0.14172234613796697, 0.19023613834610276, 0.13083205255853914]\n",
      "\n",
      "amount line =  [3.497217282819421, 2.7971969980645923, 3.4751852828016254, 2.788923150691849, 2.0792169713559012, 4.197508742565226]\n",
      "\n",
      "Now the matrix A is:  \n",
      "[[ 9.88343245 25.38853035 15.06231726 24.67654098 18.38355905 26.73058486]\n",
      " [ 7.90511579 20.30663672 12.04736944 19.73716266 14.70381507 21.38005896]\n",
      " [ 9.82116815 25.22858601 14.96742668 24.52108208 18.26774509 26.56218576]\n",
      " [ 7.8817332  20.24657158 12.01173445 19.67878198 14.66032256 21.31681875]\n",
      " [ 5.87604339 15.09436186  8.95507003 14.67105949 10.92966347 15.89225981]\n",
      " [11.86251547 30.47239262 18.07843301 29.61783273 22.0647285  32.08318344]]\n"
     ]
    }
   ],
   "source": [
    "#   2\n",
    "\n",
    "a = np.random.random((6,6))\n",
    "print(\"Matrix: \")\n",
    "print(a)\n",
    "print(\"\")\n",
    "\n",
    "j=0\n",
    "b=[]\n",
    "\n",
    "for j in range(6):\n",
    "    minim = a[0,j]\n",
    "    for i in range(6):\n",
    "        if (a[i,j] < minim):\n",
    "            minim = a[i,j]\n",
    "    b.append(minim)\n",
    "    \n",
    "print(\"minimum line =  \" + str(b))\n",
    "print(\"\")\n",
    "\n",
    "i=0\n",
    "j=0\n",
    "s=0\n",
    "c=[]\n",
    "for i in range(6):\n",
    "    for j in range(6):\n",
    "        s += a[i,j]\n",
    "    c.append(s)\n",
    "    s=0\n",
    "\n",
    "print(\"amount line =  \" + str(c))\n",
    "print(\"\")\n",
    "i=0\n",
    "j=0\n",
    "\n",
    "for i in range(6):\n",
    "    for j in range(6):\n",
    "        a[i,j] = c[i] / b[j]\n",
    "        \n",
    "print(\"Now the matrix A is:  \")\n",
    "print(a)"
   ]
  },
  {
   "cell_type": "code",
   "execution_count": 4,
   "metadata": {},
   "outputs": [
    {
     "name": "stdout",
     "output_type": "stream",
     "text": [
      "5\n"
     ]
    }
   ],
   "source": [
    "x = np.array([6, 2, 0, 3, 0, 0, 5, 7, 0])\n",
    "\n",
    "mi=0\n",
    "for i in range (1,7):\n",
    "    if x[i-1]==0:\n",
    "        if x[i] > mi :\n",
    "            mi = x[i]\n",
    "print(mi)"
   ]
  },
  {
   "cell_type": "code",
   "execution_count": 5,
   "metadata": {},
   "outputs": [
    {
     "name": "stdout",
     "output_type": "stream",
     "text": [
      "Before: \n",
      "[1. 1. 1. 1. 1. 1. 1. 1. 1. 1.]\n",
      "After: \n",
      "[2. 2. 2. 2. 1. 4. 1. 1. 2. 1.]\n"
     ]
    }
   ],
   "source": [
    "x=np.ones(10)\n",
    "a=np.array([0, 1, 2, 3, 5, 5, 5, 8])\n",
    "\n",
    "\n",
    "print(\"Before: \")\n",
    "print(x)\n",
    "\n",
    "for i in range(9):\n",
    "    for j in range(8):\n",
    "        if a[j] == i :\n",
    "            x[i] += 1\n",
    "            \n",
    "print(\"After: \")\n",
    "print(x)"
   ]
  },
  {
   "cell_type": "code",
   "execution_count": 6,
   "metadata": {},
   "outputs": [
    {
     "name": "stdout",
     "output_type": "stream",
     "text": [
      "Matrix: \n",
      "[[ 0  1  2  3]\n",
      " [ 4  5  6  7]\n",
      " [ 8  9 10 11]\n",
      " [12 13 14 15]]\n",
      "\n",
      "dict = \n",
      "{0: [0], 1: [1, 4], 2: [2, 5, 8], 3: [3, 6, 9, 12], 4: [7, 10, 13], 5: [11, 14], 6: [15]}\n"
     ]
    }
   ],
   "source": [
    "a = np.arange(16).reshape(4, 4)\n",
    "N=4\n",
    "print(\"Matrix: \")\n",
    "print(a)\n",
    "print(\"\")\n",
    "\n",
    "\n",
    "l=[]\n",
    "slov={}\n",
    "i=0; j=0; k=0; p=0\n",
    "\n",
    "for k in range(2*N-1):     #keys\n",
    "    \n",
    "    for i in range (N):\n",
    "        for j in range (N):\n",
    "            if i+j == p :\n",
    "                l.append(a[i,j])\n",
    "    p += 1\n",
    "    slov[k] = l\n",
    "    l = []\n",
    "\n",
    "print(\"dict = \")\n",
    "print(slov)"
   ]
  },
  {
   "cell_type": "code",
   "execution_count": null,
   "metadata": {},
   "outputs": [],
   "source": []
  }
 ],
 "metadata": {
  "kernelspec": {
   "display_name": "Python 3",
   "language": "python",
   "name": "python3"
  },
  "language_info": {
   "codemirror_mode": {
    "name": "ipython",
    "version": 3
   },
   "file_extension": ".py",
   "mimetype": "text/x-python",
   "name": "python",
   "nbconvert_exporter": "python",
   "pygments_lexer": "ipython3",
   "version": "3.7.1"
  }
 },
 "nbformat": 4,
 "nbformat_minor": 2
}
